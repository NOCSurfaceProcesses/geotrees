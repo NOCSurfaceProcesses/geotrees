{
 "cells": [
  {
   "cell_type": "markdown",
   "id": "f7143f08-1d06-4e94-bbf6-ef35ddd11556",
   "metadata": {},
   "source": [
    "# KDTree\n",
    "\n",
    "Testing the time to look-up nearby records with the `KDTree` implementation. Note that this implementation is actually a `2DTree` since it can only compute a valid distance comparison between longitude and latitude positions.\n",
    "\n",
    "The `KDTree` object is used for finding the closest neighbour to a position, in this implementation we use the Haversine distance to compare positions."
   ]
  },
  {
   "cell_type": "code",
   "execution_count": 1,
   "id": "bdfa1141-8ae0-499b-8355-927759af69d1",
   "metadata": {},
   "outputs": [],
   "source": [
    "import os\n",
    "\n",
    "os.environ[\"POLARS_MAX_THREADS\"] = \"4\"\n",
    "\n",
    "from datetime import datetime\n",
    "from string import ascii_letters, digits\n",
    "import random\n",
    "import inspect\n",
    "\n",
    "import polars as pl\n",
    "import numpy as np\n",
    "\n",
    "from GeoSpatialTools import Record, KDTree"
   ]
  },
  {
   "cell_type": "markdown",
   "id": "ec6c6e7f-8eee-47ea-a5e9-12537bb3412d",
   "metadata": {},
   "source": [
    "## Set-up functions\n",
    "\n",
    "Used for generating data, or for comparisons by doing brute-force approach."
   ]
  },
  {
   "cell_type": "code",
   "execution_count": 2,
   "id": "8711862a-6295-43eb-ac51-333fda638ef4",
   "metadata": {},
   "outputs": [],
   "source": [
    "def randnum() -> float:\n",
    "    \"\"\"Get a random number between -1 and 1\"\"\"\n",
    "    return 2 * (np.random.rand() - 0.5)"
   ]
  },
  {
   "cell_type": "code",
   "execution_count": 3,
   "id": "72164093-fac1-4dfc-803b-6522cc9a4d62",
   "metadata": {},
   "outputs": [],
   "source": [
    "def generate_uid(n: int) -> str:\n",
    "    \"\"\"Generates a pseudo uid by randomly selecting from characters\"\"\"\n",
    "    chars = ascii_letters + digits\n",
    "    return \"\".join(random.choice(chars) for _ in range(n))"
   ]
  },
  {
   "cell_type": "code",
   "execution_count": 4,
   "id": "9e647ecd-abdc-46a0-8261-aa081fda2e1d",
   "metadata": {
    "jupyter": {
     "source_hidden": true
    },
    "scrolled": true
   },
   "outputs": [],
   "source": [
    "def check_cols(\n",
    "    df: pl.DataFrame | pl.LazyFrame,\n",
    "    cols: list[str],\n",
    "    var_name: str = \"dataframe\",\n",
    ") -> None:\n",
    "    \"\"\"\n",
    "    Check that a dataframe contains a list of columns. Raises an error if not.\n",
    "\n",
    "    Parameters\n",
    "    ----------\n",
    "    df : polars Frame\n",
    "        Dataframe to check\n",
    "    cols : list[str]\n",
    "        Required columns\n",
    "    var_name : str\n",
    "        Name of the Frame - used for displaying in any error.\n",
    "    \"\"\"\n",
    "    calling_func = inspect.stack()[1][3]\n",
    "    if isinstance(df, pl.DataFrame):\n",
    "        have_cols = df.columns\n",
    "    elif isinstance(df, pl.LazyFrame):\n",
    "        have_cols = df.collect_schema().names()\n",
    "    else:\n",
    "        raise TypeError(\"Input Frame is not a polars Frame\")\n",
    "\n",
    "    cols_in_frame = intersect(cols, have_cols)\n",
    "    missing = [c for c in cols if c not in cols_in_frame]\n",
    "\n",
    "    if len(missing) > 0:\n",
    "        err_str = f\"({calling_func}) - {var_name} missing required columns. \"\n",
    "        err_str += f'Require: {\", \".join(cols)}. '\n",
    "        err_str += f'Missing: {\", \".join(missing)}.'\n",
    "        raise ValueError(err_str)\n",
    "\n",
    "    return\n",
    "\n",
    "\n",
    "def haversine_df(\n",
    "    df: pl.DataFrame | pl.LazyFrame,\n",
    "    lon: float,\n",
    "    lat: float,\n",
    "    R: float = 6371,\n",
    "    lon_col: str = \"lon\",\n",
    "    lat_col: str = \"lat\",\n",
    ") -> pl.DataFrame | pl.LazyFrame:\n",
    "    \"\"\"\n",
    "    Compute haversine distance on earth surface between lon-lat positions\n",
    "    in a polars DataFrame and a lon-lat position.\n",
    "\n",
    "    Parameters\n",
    "    ----------\n",
    "    df : polars.DataFrame\n",
    "        The data, containing required columns:\n",
    "            * lon_col\n",
    "            * lat_col\n",
    "            * date_var\n",
    "    lon : float\n",
    "        The longitude of the position.\n",
    "    lat : float\n",
    "        The latitude of the position.\n",
    "    R : float\n",
    "        Radius of earth in km\n",
    "    lon_col : str\n",
    "        Name of the longitude column\n",
    "    lat_col : str\n",
    "        Name of the latitude column\n",
    "\n",
    "    Returns\n",
    "    -------\n",
    "    polars.DataFrame\n",
    "        With additional column specifying distances between consecutive points\n",
    "        in the same units as 'R'. With colname defined by 'out_colname'.\n",
    "    \"\"\"\n",
    "    required_cols = [lon_col, lat_col]\n",
    "\n",
    "    check_cols(df, required_cols, \"df\")\n",
    "    return (\n",
    "        df.with_columns(\n",
    "            [\n",
    "                pl.col(lat_col).radians().alias(\"_lat0\"),\n",
    "                pl.lit(lat).radians().alias(\"_lat1\"),\n",
    "                (pl.col(lon_col) - lon).radians().alias(\"_dlon\"),\n",
    "                (pl.col(lat_col) - lat).radians().alias(\"_dlat\"),\n",
    "            ]\n",
    "        )\n",
    "        .with_columns(\n",
    "            (\n",
    "                (pl.col(\"_dlat\") / 2).sin().pow(2)\n",
    "                + pl.col(\"_lat0\").cos()\n",
    "                * pl.col(\"_lat1\").cos()\n",
    "                * (pl.col(\"_dlon\") / 2).sin().pow(2)\n",
    "            ).alias(\"_a\")\n",
    "        )\n",
    "        .with_columns(\n",
    "            (2 * R * (pl.col(\"_a\").sqrt().arcsin())).round(2).alias(\"_dist\")\n",
    "        )\n",
    "        .drop([\"_lat0\", \"_lat1\", \"_dlon\", \"_dlat\", \"_a\"])\n",
    "    )\n",
    "\n",
    "\n",
    "def intersect(a, b) -> set:\n",
    "    \"\"\"Intersection of a and b, items in both a and b\"\"\"\n",
    "    return set(a) & set(b)\n",
    "\n",
    "\n",
    "def nearest_ship(\n",
    "    lon: float,\n",
    "    lat: float,\n",
    "    df: pl.DataFrame,\n",
    "    lon_col: str = \"lon\",\n",
    "    lat_col: str = \"lat\",\n",
    ") -> pl.DataFrame:\n",
    "    \"\"\"\n",
    "    Find the observation nearest to a position in space.\n",
    "\n",
    "    Get a frame with only the records that is closest to the input point.\n",
    "\n",
    "    Parameters\n",
    "    ----------\n",
    "    lon : float\n",
    "        The longitude of the position.\n",
    "    lat : float\n",
    "        The latitude of the position.\n",
    "    df : polars.DataFrame\n",
    "        The pool of records to search. Can be pre-filtered and filter_datetime\n",
    "        set to False.\n",
    "    lon_col : str\n",
    "        Name of the longitude column in the pool DataFrame\n",
    "    lat_col : str\n",
    "        Name of the latitude column in the pool DataFrame\n",
    "\n",
    "    Returns\n",
    "    -------\n",
    "    polars.DataFrame\n",
    "        Containing only records from the pool within max_dist of the input\n",
    "        point, optionally at the same datetime if filter_datetime is True.\n",
    "    \"\"\"\n",
    "    required_cols = [lon_col, lat_col]\n",
    "    check_cols(df, required_cols, \"df\")\n",
    "\n",
    "    return (\n",
    "        df.pipe(\n",
    "            haversine_df,\n",
    "            lon=lon,\n",
    "            lat=lat,\n",
    "            lon_col=lon_col,\n",
    "            lat_col=lat_col,\n",
    "        )\n",
    "        .filter(pl.col(\"_dist\").eq(pl.col(\"_dist\").min()))\n",
    "        .drop([\"_dist\"])\n",
    "    )"
   ]
  },
  {
   "cell_type": "markdown",
   "id": "287bdc1d-1ecf-4c59-af95-d2dc639c6894",
   "metadata": {},
   "source": [
    "## Initialise random data"
   ]
  },
  {
   "cell_type": "code",
   "execution_count": 5,
   "id": "c60b30de-f864-477a-a09a-5f1caa4d9b9a",
   "metadata": {},
   "outputs": [
    {
     "name": "stdout",
     "output_type": "stream",
     "text": [
      "(16000, 2)\n",
      "shape: (5, 2)\n",
      "┌─────┬─────┐\n",
      "│ lon ┆ lat │\n",
      "│ --- ┆ --- │\n",
      "│ i64 ┆ i64 │\n",
      "╞═════╪═════╡\n",
      "│ -26 ┆ -42 │\n",
      "│ 109 ┆ -33 │\n",
      "│ -87 ┆ -18 │\n",
      "│ -94 ┆ -81 │\n",
      "│ -94 ┆ 0   │\n",
      "└─────┴─────┘\n"
     ]
    }
   ],
   "source": [
    "N = 16_000\n",
    "lons = pl.int_range(-180, 180, eager=True)\n",
    "lats = pl.int_range(-90, 90, eager=True)\n",
    "dates = pl.datetime_range(\n",
    "    datetime(1900, 1, 1, 0),\n",
    "    datetime(1900, 1, 31, 23),\n",
    "    interval=\"1h\",\n",
    "    eager=True,\n",
    ")\n",
    "\n",
    "lons_use = lons.sample(N, with_replacement=True).alias(\"lon\")\n",
    "lats_use = lats.sample(N, with_replacement=True).alias(\"lat\")\n",
    "# dates_use = dates.sample(N, with_replacement=True).alias(\"datetime\")\n",
    "# uids = pl.Series(\"uid\", [generate_uid(8) for _ in range(N)])\n",
    "\n",
    "df = pl.DataFrame([lons_use, lats_use])\n",
    "print(df.shape)\n",
    "print(df.head())"
   ]
  },
  {
   "cell_type": "code",
   "execution_count": 6,
   "id": "875f2a67-49fe-476f-add1-b1d76c6cd8f9",
   "metadata": {},
   "outputs": [],
   "source": [
    "records = [Record(**r) for r in df.rows(named=True)]"
   ]
  },
  {
   "cell_type": "markdown",
   "id": "bd83330b-ef2c-478e-9a7b-820454d198bb",
   "metadata": {},
   "source": [
    "## Initialise the `KDTree`\n",
    "\n",
    "There is an overhead to constructing a `KDTree` object, so performance improvement is only for multiple comparisons."
   ]
  },
  {
   "cell_type": "code",
   "execution_count": 7,
   "id": "1e883e5a-5086-4c29-aff2-d308874eae16",
   "metadata": {},
   "outputs": [
    {
     "name": "stdout",
     "output_type": "stream",
     "text": [
      "CPU times: user 35 ms, sys: 1.5 ms, total: 36.5 ms\n",
      "Wall time: 32.1 ms\n"
     ]
    }
   ],
   "source": [
    "%%time\n",
    "kt = KDTree(records)"
   ]
  },
  {
   "cell_type": "markdown",
   "id": "0a37ef06-2691-4e01-96a9-1c1ecd582599",
   "metadata": {},
   "source": [
    "## Compare with brute force approach"
   ]
  },
  {
   "cell_type": "code",
   "execution_count": 8,
   "id": "365bbf30-7a93-438d-92b2-a3471f1e9249",
   "metadata": {},
   "outputs": [],
   "source": [
    "test_record = Record(\n",
    "    random.choice(range(-179, 180)) + randnum(),\n",
    "    random.choice(range(-89, 90)) + randnum(),\n",
    ")"
   ]
  },
  {
   "cell_type": "code",
   "execution_count": 9,
   "id": "69022ad1-5ec8-4a09-836c-273ef452451f",
   "metadata": {},
   "outputs": [
    {
     "name": "stdout",
     "output_type": "stream",
     "text": [
      "101 μs ± 3.52 μs per loop (mean ± std. dev. of 7 runs, 10,000 loops each)\n"
     ]
    }
   ],
   "source": [
    "%%timeit\n",
    "kt.query(test_record)"
   ]
  },
  {
   "cell_type": "code",
   "execution_count": 10,
   "id": "28031966-c7d0-4201-a467-37590118e851",
   "metadata": {},
   "outputs": [
    {
     "name": "stdout",
     "output_type": "stream",
     "text": [
      "8.17 ms ± 38.6 μs per loop (mean ± std. dev. of 7 runs, 100 loops each)\n"
     ]
    }
   ],
   "source": [
    "%%timeit\n",
    "np.argmin([test_record.distance(p) for p in records])"
   ]
  },
  {
   "cell_type": "code",
   "execution_count": 11,
   "id": "09e0f923-ca49-47bf-8643-e0b3a6d0467c",
   "metadata": {},
   "outputs": [
    {
     "name": "stdout",
     "output_type": "stream",
     "text": [
      "8.22 ms ± 95.3 μs per loop (mean ± std. dev. of 7 runs, 100 loops each)\n"
     ]
    }
   ],
   "source": [
    "%%timeit\n",
    "nearest_ship(lon=test_record.lon, lat=test_record.lat, df=df)"
   ]
  },
  {
   "cell_type": "markdown",
   "id": "f0359950-942d-45ea-8676-b22c8ce9e296",
   "metadata": {},
   "source": [
    "## Verify that results are correct"
   ]
  },
  {
   "cell_type": "code",
   "execution_count": 12,
   "id": "0d10b2ba-57b2-475c-9d01-135363423990",
   "metadata": {},
   "outputs": [
    {
     "name": "stdout",
     "output_type": "stream",
     "text": [
      "CPU times: user 16.3 s, sys: 74.7 ms, total: 16.4 s\n",
      "Wall time: 16.4 s\n"
     ]
    }
   ],
   "source": [
    "%%time\n",
    "n_samples = 1000\n",
    "tol = 1e-8\n",
    "test_records = [\n",
    "    Record(\n",
    "        random.choice(range(-179, 180)) + randnum(),\n",
    "        random.choice(range(-89, 90)) + randnum(),\n",
    "    )\n",
    "    for _ in range(n_samples)\n",
    "]\n",
    "kd_res = [kt.query(r) for r in test_records]\n",
    "kd_recs = [_[0][0] for _ in kd_res]\n",
    "kd_dists = [_[1] for _ in kd_res]\n",
    "tr_recs = [\n",
    "    records[np.argmin([r.distance(p) for p in records])] for r in test_records\n",
    "]\n",
    "tr_dists = [min([r.distance(p) for p in records]) for r in test_records]\n",
    "\n",
    "if not all([abs(k - t) < tol for k, t in zip(kd_dists, tr_dists)]):\n",
    "    raise ValueError(\"NOT MATCHING?\")"
   ]
  },
  {
   "cell_type": "code",
   "execution_count": 13,
   "id": "a6aa6926-7fd5-4fff-bd20-7bc0305b948d",
   "metadata": {},
   "outputs": [
    {
     "data": {
      "text/html": [
       "<div><style>\n",
       ".dataframe > thead > tr,\n",
       ".dataframe > tbody > tr {\n",
       "  text-align: right;\n",
       "  white-space: pre-wrap;\n",
       "}\n",
       "</style>\n",
       "<small>shape: (0, 8)</small><table border=\"1\" class=\"dataframe\"><thead><tr><th>test_lon</th><th>test_lat</th><th>kd_dist</th><th>kd_lon</th><th>kd_lat</th><th>tr_dist</th><th>tr_lon</th><th>tr_lat</th></tr><tr><td>f64</td><td>f64</td><td>f64</td><td>i64</td><td>i64</td><td>f64</td><td>i64</td><td>i64</td></tr></thead><tbody></tbody></table></div>"
      ],
      "text/plain": [
       "shape: (0, 8)\n",
       "┌──────────┬──────────┬─────────┬────────┬────────┬─────────┬────────┬────────┐\n",
       "│ test_lon ┆ test_lat ┆ kd_dist ┆ kd_lon ┆ kd_lat ┆ tr_dist ┆ tr_lon ┆ tr_lat │\n",
       "│ ---      ┆ ---      ┆ ---     ┆ ---    ┆ ---    ┆ ---     ┆ ---    ┆ ---    │\n",
       "│ f64      ┆ f64      ┆ f64     ┆ i64    ┆ i64    ┆ f64     ┆ i64    ┆ i64    │\n",
       "╞══════════╪══════════╪═════════╪════════╪════════╪═════════╪════════╪════════╡\n",
       "└──────────┴──────────┴─────────┴────────┴────────┴─────────┴────────┴────────┘"
      ]
     },
     "execution_count": 13,
     "metadata": {},
     "output_type": "execute_result"
    }
   ],
   "source": [
    "test_lons = [r.lon for r in test_records]\n",
    "test_lats = [r.lat for r in test_records]\n",
    "\n",
    "kd_lons = [r.lon for r in kd_recs]\n",
    "kd_lats = [r.lat for r in kd_recs]\n",
    "\n",
    "tr_lons = [r.lon for r in tr_recs]\n",
    "tr_lats = [r.lat for r in tr_recs]\n",
    "\n",
    "df = pl.DataFrame(\n",
    "    {\n",
    "        \"test_lon\": test_lons,\n",
    "        \"test_lat\": test_lats,\n",
    "        \"kd_dist\": kd_dists,\n",
    "        \"kd_lon\": kd_lons,\n",
    "        \"kd_lat\": kd_lats,\n",
    "        \"tr_dist\": tr_dists,\n",
    "        \"tr_lon\": tr_lons,\n",
    "        \"tr_lat\": tr_lats,\n",
    "    }\n",
    ").filter((pl.col(\"kd_dist\") - pl.col(\"tr_dist\")).abs().ge(tol))\n",
    "df"
   ]
  }
 ],
 "metadata": {
  "kernelspec": {
   "display_name": "geospatialtools",
   "language": "python",
   "name": "geospatialtools"
  },
  "language_info": {
   "codemirror_mode": {
    "name": "ipython",
    "version": 3
   },
   "file_extension": ".py",
   "mimetype": "text/x-python",
   "name": "python",
   "nbconvert_exporter": "python",
   "pygments_lexer": "ipython3",
   "version": "3.11.11"
  }
 },
 "nbformat": 4,
 "nbformat_minor": 5
}
