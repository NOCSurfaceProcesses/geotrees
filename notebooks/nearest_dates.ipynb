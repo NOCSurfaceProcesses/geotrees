{
 "cells": [
  {
   "cell_type": "code",
   "execution_count": 1,
   "id": "1a5b0008-0815-46c8-abe2-30903c9bea52",
   "metadata": {},
   "outputs": [],
   "source": [
    "from datetime import datetime\n",
    "\n",
    "import numpy as np\n",
    "\n",
    "from geotrees import find_nearest"
   ]
  },
  {
   "cell_type": "code",
   "execution_count": 2,
   "id": "9fcd73b2-7f89-4044-8664-27fb25bdb27b",
   "metadata": {},
   "outputs": [],
   "source": [
    "START_DATETIME = datetime(2003, 1, 1, 0, 0)\n",
    "END_DATETIME = datetime(2013, 12, 31, 23, 59)\n",
    "DATETIME_DIFF = END_DATETIME - START_DATETIME"
   ]
  },
  {
   "cell_type": "code",
   "execution_count": 3,
   "id": "f2640fc9-c237-4920-b6ca-b1eea5e2137a",
   "metadata": {},
   "outputs": [],
   "source": [
    "def generate_random_datetime(n: int = 1) -> list[datetime]:\n",
    "    return list(START_DATETIME + DATETIME_DIFF * np.random.rand(n))"
   ]
  },
  {
   "cell_type": "code",
   "execution_count": 4,
   "id": "487fd76a-e4b5-4d2f-badd-ca032a1572ca",
   "metadata": {},
   "outputs": [],
   "source": [
    "N1 = 50_000\n",
    "N2 = 300\n",
    "all_dates = sorted(generate_random_datetime(N1))\n",
    "query_dates = generate_random_datetime(N2)\n",
    "\n",
    "# Add some values to test edges\n",
    "query_dates.append(all_dates[0])\n",
    "query_dates.append(all_dates[-1])\n",
    "query_dates.append(datetime(2008, 6, 12, 14, 23))\n",
    "query_dates.append(datetime(2011, 4, 17, 8, 21))\n",
    "\n",
    "# Sorted version (for last test)\n",
    "s_query_dates = sorted(query_dates)"
   ]
  },
  {
   "cell_type": "code",
   "execution_count": 5,
   "id": "53509360-7461-4c1f-904f-714317b6a454",
   "metadata": {},
   "outputs": [],
   "source": [
    "def find_nearest_both_sorted(\n",
    "    all_dates: list[datetime],\n",
    "    query_dates: list[datetime],\n",
    ") -> list[datetime]:\n",
    "    \"\"\"\n",
    "    Find the nearest datetime in a list of dates for each datetime value\n",
    "    is a list of query datetimes if both lists are sorted.\n",
    "\n",
    "    Parameters\n",
    "    ----------\n",
    "    all_dates : list[datetime]\n",
    "        Sorted list of datetimes to search. This list must be sorted, this\n",
    "        function does not check sortedness, nor does it sort the list.\n",
    "    query_dates : list[datetime]\n",
    "        Sorted list of query datetimes. This list must be sorted, this\n",
    "        function does not check sortedness, nor does it sort the list.\n",
    "\n",
    "    Returns\n",
    "    -------\n",
    "    result : list[datetime]\n",
    "        The nearest datetime value in all_dates for each datetime value in\n",
    "        query_dates.\n",
    "    \"\"\"\n",
    "    n = len(all_dates)\n",
    "    result = np.empty_like(query_dates, dtype=datetime)\n",
    "    i = 0\n",
    "    for m, m_date in enumerate(query_dates):\n",
    "        while all_dates[i] < m_date and i < n:\n",
    "            i += 1\n",
    "        lower = max(0, i - 1)\n",
    "        upper = min(i + 2, n)\n",
    "\n",
    "        dates = all_dates[lower:upper]\n",
    "\n",
    "        res = dates[np.argmin([abs(m_date - x) for x in dates])]\n",
    "        result[m] = res\n",
    "    return list(result)"
   ]
  },
  {
   "cell_type": "code",
   "execution_count": 6,
   "id": "1e4fc1b5-85b9-4d9e-809a-b0c5d39666bf",
   "metadata": {},
   "outputs": [
    {
     "name": "stdout",
     "output_type": "stream",
     "text": [
      "query_dates[i] = datetime.datetime(2008, 1, 6, 11, 21, 10, 51601)\n",
      "fast result = 22770\n",
      "2008-01-06 07:54:25.317797\n",
      "2008-01-06 14:12:24.600544\n",
      "2008-01-06 14:32:59.053522\n"
     ]
    }
   ],
   "source": [
    "i = 55\n",
    "print(f\"{query_dates[i] = }\")\n",
    "pos = find_nearest(all_dates, query_dates[i])\n",
    "print(f\"fast result = {find_nearest(all_dates, query_dates[i])}\")\n",
    "print(f\"{all_dates[pos - 1]}\")\n",
    "print(f\"{all_dates[pos]}\")\n",
    "print(f\"{all_dates[pos + 1]}\")"
   ]
  },
  {
   "cell_type": "markdown",
   "id": "a5c48eff-a10b-4dfa-a315-9d5a35d0b6f9",
   "metadata": {},
   "source": [
    "## Greedy approach\n",
    "\n",
    "Make every comparison.\n",
    "\n",
    "### Naive list approach"
   ]
  },
  {
   "cell_type": "code",
   "execution_count": 7,
   "id": "89c5ce06-00a3-4382-85e0-fbc8ce79ca6e",
   "metadata": {},
   "outputs": [
    {
     "name": "stdout",
     "output_type": "stream",
     "text": [
      "CPU times: user 10.4 s, sys: 75.6 ms, total: 10.4 s\n",
      "Wall time: 10.4 s\n"
     ]
    }
   ],
   "source": [
    "%%time\n",
    "greedy_results = [\n",
    "    all_dates[np.argmin([np.abs(x - y) for y in all_dates])]\n",
    "    for x in query_dates\n",
    "]"
   ]
  },
  {
   "cell_type": "markdown",
   "id": "5aabd8e2-dd11-41d9-8ac2-261f98fa4a28",
   "metadata": {},
   "source": [
    "### NumPy `ufunc`"
   ]
  },
  {
   "cell_type": "code",
   "execution_count": 8,
   "id": "a0483862-acc8-4c92-b926-26a4c0862211",
   "metadata": {},
   "outputs": [
    {
     "name": "stdout",
     "output_type": "stream",
     "text": [
      "CPU times: user 1.36 s, sys: 371 ms, total: 1.73 s\n",
      "Wall time: 1.86 s\n"
     ]
    }
   ],
   "source": [
    "%%time\n",
    "greedy_fast_results = [\n",
    "    all_dates[i]\n",
    "    for i in np.argmin(\n",
    "        np.abs(np.subtract.outer(all_dates, query_dates)), axis=0\n",
    "    )\n",
    "]"
   ]
  },
  {
   "cell_type": "markdown",
   "id": "a3522484-acb3-433a-bb9c-fc0e1101020e",
   "metadata": {},
   "source": [
    "## Bisection"
   ]
  },
  {
   "cell_type": "code",
   "execution_count": 9,
   "id": "ee6d06d8-3201-472e-8485-133b8b6ae896",
   "metadata": {},
   "outputs": [
    {
     "name": "stderr",
     "output_type": "stream",
     "text": [
      "/Users/josidd/git/noc_gitlab/GeoSpatialTools/geotrees/neighbours.py:81: SortedWarning: Not checking sortedness of data\n",
      "  warn(\"Not checking sortedness of data\", SortedWarning)\n"
     ]
    },
    {
     "name": "stdout",
     "output_type": "stream",
     "text": [
      "636 μs ± 6.19 μs per loop (mean ± std. dev. of 7 runs, 1,000 loops each)\n"
     ]
    }
   ],
   "source": [
    "%%timeit\n",
    "[all_dates[find_nearest(all_dates, x, check_sorted=False)] for x in query_dates]"
   ]
  },
  {
   "cell_type": "code",
   "execution_count": 10,
   "id": "2220462e-53bc-446d-877c-f11111cc36db",
   "metadata": {},
   "outputs": [
    {
     "name": "stdout",
     "output_type": "stream",
     "text": [
      "546 μs ± 1.39 μs per loop (mean ± std. dev. of 7 runs, 1,000 loops each)\n"
     ]
    }
   ],
   "source": [
    "%%timeit\n",
    "[all_dates[i] for i in find_nearest(all_dates, query_dates, check_sorted=False)]"
   ]
  },
  {
   "cell_type": "code",
   "execution_count": 11,
   "id": "f81f6c23-e2e6-4ef9-839b-e35e1a94fba9",
   "metadata": {},
   "outputs": [
    {
     "name": "stdout",
     "output_type": "stream",
     "text": [
      "2 μs ± 53.4 ns per loop (mean ± std. dev. of 7 runs, 1,000,000 loops each)\n"
     ]
    }
   ],
   "source": [
    "%%timeit d = random.choice(query_dates)\n",
    "find_nearest(all_dates, d, check_sorted=False)"
   ]
  },
  {
   "cell_type": "markdown",
   "id": "2c24079f-6f5e-4edb-8e82-013f6ad0da80",
   "metadata": {},
   "source": [
    "## Both lists are sorted"
   ]
  },
  {
   "cell_type": "code",
   "execution_count": 12,
   "id": "69a5dbb1-556a-4529-ae5d-cf090669697a",
   "metadata": {},
   "outputs": [
    {
     "name": "stdout",
     "output_type": "stream",
     "text": [
      "2.19 ms ± 205 μs per loop (mean ± std. dev. of 7 runs, 100 loops each)\n"
     ]
    }
   ],
   "source": [
    "%%timeit\n",
    "find_nearest_both_sorted(all_dates, s_query_dates)"
   ]
  },
  {
   "cell_type": "code",
   "execution_count": 13,
   "id": "173c1620-001f-4384-a2db-dfa7c7d86b44",
   "metadata": {},
   "outputs": [],
   "source": [
    "# greedy_fast_results = [\n",
    "#     all_dates[i]\n",
    "#     for i in np.argmin(\n",
    "#         np.abs(np.subtract.outer(all_dates, query_dates)), axis=0\n",
    "#     )\n",
    "# ]\n",
    "bisect_results = [all_dates[i] for i in find_nearest(all_dates, query_dates)]\n",
    "sorted_results = find_nearest_both_sorted(all_dates, s_query_dates)"
   ]
  },
  {
   "cell_type": "code",
   "execution_count": 14,
   "id": "87f5527c-b3b1-48b6-9cf4-3af83f144adf",
   "metadata": {},
   "outputs": [
    {
     "data": {
      "text/plain": [
       "True"
      ]
     },
     "execution_count": 14,
     "metadata": {},
     "output_type": "execute_result"
    }
   ],
   "source": [
    "all(g == f for g, f in zip(greedy_results, greedy_fast_results))"
   ]
  },
  {
   "cell_type": "code",
   "execution_count": 15,
   "id": "7f2fb146-335a-4464-8ca7-094cee9ded9b",
   "metadata": {},
   "outputs": [
    {
     "data": {
      "text/plain": [
       "True"
      ]
     },
     "execution_count": 15,
     "metadata": {},
     "output_type": "execute_result"
    }
   ],
   "source": [
    "all(g == b for g, b in zip(greedy_results, bisect_results))"
   ]
  },
  {
   "cell_type": "code",
   "execution_count": 16,
   "id": "e7b26e9a-50c5-4254-b62b-e1e4ba3cf4dd",
   "metadata": {},
   "outputs": [
    {
     "data": {
      "text/plain": [
       "True"
      ]
     },
     "execution_count": 16,
     "metadata": {},
     "output_type": "execute_result"
    }
   ],
   "source": [
    "all(\n",
    "    s == g\n",
    "    for s, g in zip(\n",
    "        sorted_results, [x for _, x in sorted(zip(query_dates, greedy_results))]\n",
    "    )\n",
    ")"
   ]
  },
  {
   "cell_type": "code",
   "execution_count": 17,
   "id": "1fac6d18-86c5-43f2-b8be-c95c0e62e85e",
   "metadata": {},
   "outputs": [
    {
     "name": "stdout",
     "output_type": "stream",
     "text": [
      "6.34 ms ± 161 μs per loop (mean ± std. dev. of 7 runs, 100 loops each)\n"
     ]
    }
   ],
   "source": [
    "%%timeit vals = generate_random_datetime(N1)\n",
    "sorted(vals)"
   ]
  }
 ],
 "metadata": {
  "kernelspec": {
   "display_name": "geospatialtools",
   "language": "python",
   "name": "geospatialtools"
  },
  "language_info": {
   "codemirror_mode": {
    "name": "ipython",
    "version": 3
   },
   "file_extension": ".py",
   "mimetype": "text/x-python",
   "name": "python",
   "nbconvert_exporter": "python",
   "pygments_lexer": "ipython3",
   "version": "3.12.10"
  }
 },
 "nbformat": 4,
 "nbformat_minor": 5
}
