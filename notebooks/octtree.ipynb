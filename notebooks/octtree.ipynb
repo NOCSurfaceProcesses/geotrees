{
 "cells": [
  {
   "cell_type": "markdown",
   "id": "c70ce35d-6112-4c12-9387-9c788c84a8e9",
   "metadata": {},
   "source": [
    "## OctTree!\n",
    "\n",
    "Testing the time to look-up nearby records with the `OctTree` implementation.\n",
    "\n",
    "The `OctTree` is used to find records within a spatio-temporal range of a given point, or within a box defined by lon, lat, & time bounds."
   ]
  },
  {
   "cell_type": "code",
   "execution_count": 1,
   "id": "c0956916-f50a-444d-a5b6-f06d3fb9b44d",
   "metadata": {},
   "outputs": [],
   "source": [
    "import os\n",
    "\n",
    "\n",
    "os.environ[\"POLARS_MAX_THREADS\"] = \"4\"\n",
    "\n",
    "import inspect\n",
    "import random\n",
    "from datetime import datetime, timedelta\n",
    "from string import ascii_letters, digits\n",
    "\n",
    "import numpy as np\n",
    "import polars as pl\n",
    "\n",
    "from geotrees.octtree import OctTree\n",
    "from geotrees.record import SpaceTimeRecord as Record\n",
    "from geotrees.shape import SpaceTimeRectangle as Rectangle"
   ]
  },
  {
   "cell_type": "markdown",
   "id": "6b0e8015-b958-4be7-9e63-9e21f081011b",
   "metadata": {},
   "source": [
    "## Set-up functions\n",
    "\n",
    "For comparisons using brute-force approach"
   ]
  },
  {
   "cell_type": "code",
   "execution_count": 2,
   "id": "d8f1e5e1-513c-4bdf-a9f9-cef9562a7cb7",
   "metadata": {},
   "outputs": [],
   "source": [
    "def generate_uid(n: int) -> str:\n",
    "    chars = ascii_letters + digits\n",
    "    return \"\".join(random.choice(chars) for _ in range(n))"
   ]
  },
  {
   "cell_type": "code",
   "execution_count": 3,
   "id": "986d9cc5-e610-449a-9ee7-e281b7558ca9",
   "metadata": {},
   "outputs": [],
   "source": [
    "N = 16_000\n",
    "lons = pl.int_range(-180, 180, eager=True)\n",
    "lats = pl.int_range(-90, 90, eager=True)\n",
    "dates = pl.datetime_range(\n",
    "    datetime(1900, 1, 1, 0),\n",
    "    datetime(1900, 1, 31, 23),\n",
    "    interval=\"1h\",\n",
    "    eager=True,\n",
    ")\n",
    "\n",
    "lons_use = lons.sample(N, with_replacement=True).alias(\"lon\")\n",
    "lats_use = lats.sample(N, with_replacement=True).alias(\"lat\")\n",
    "dates_use = dates.sample(N, with_replacement=True).alias(\"datetime\")\n",
    "uids = pl.Series(\"uid\", [generate_uid(8) for _ in range(N)])\n",
    "\n",
    "df = pl.DataFrame([lons_use, lats_use, dates_use, uids]).unique()"
   ]
  },
  {
   "cell_type": "markdown",
   "id": "237096f1-093e-49f0-9a9a-2bec5231726f",
   "metadata": {},
   "source": [
    "## Add extra rows\n",
    "\n",
    "For testing larger datasets. Uncomment to use."
   ]
  },
  {
   "cell_type": "code",
   "execution_count": 4,
   "id": "0b8fd425-8a90-4f76-91b7-60df48aa98e4",
   "metadata": {},
   "outputs": [],
   "source": [
    "# _df = df.clone()\n",
    "# for i in range(100):\n",
    "#     df2 = pl.DataFrame([\n",
    "#         _df[\"lon\"].shuffle(),\n",
    "#         _df[\"lat\"].shuffle(),\n",
    "#         _df[\"datetime\"].shuffle(),\n",
    "#         _df[\"uid\"].shuffle(),\n",
    "#     ]).with_columns(\n",
    "#         pl.concat_str(\n",
    "#             [pl.col(\"uid\"), pl.lit(f\"{i:03d}\")]\n",
    "#         ).alias(\"uid\")\n",
    "#     )\n",
    "#     df = df.vstack(df2)\n",
    "# df.shape\n",
    "# df"
   ]
  },
  {
   "cell_type": "markdown",
   "id": "c7bd16e0-96a6-426b-b00a-7c3b8a2aaddd",
   "metadata": {},
   "source": [
    "## Initialise the OctTree Object"
   ]
  },
  {
   "cell_type": "code",
   "execution_count": 5,
   "id": "af06a976-ff52-49e0-a886-91bcbe540ffe",
   "metadata": {},
   "outputs": [],
   "source": [
    "otree = OctTree(\n",
    "    Rectangle(\n",
    "        -180, 180, -90, 90, datetime(1900, 1, 1, 0), datetime(1900, 1, 31, 23)\n",
    "    ),\n",
    "    capacity=10,\n",
    "    max_depth=25,\n",
    ")"
   ]
  },
  {
   "cell_type": "code",
   "execution_count": 6,
   "id": "2ba99b37-787c-4862-8075-a7596208c60e",
   "metadata": {},
   "outputs": [
    {
     "name": "stdout",
     "output_type": "stream",
     "text": [
      "CPU times: user 101 ms, sys: 2.41 ms, total: 104 ms\n",
      "Wall time: 104 ms\n"
     ]
    }
   ],
   "source": [
    "%%time\n",
    "for r in df.rows():\n",
    "    otree.insert(Record(*r))"
   ]
  },
  {
   "cell_type": "code",
   "execution_count": 7,
   "id": "59d38446-f7d2-4eec-bba3-c39bd7279623",
   "metadata": {
    "scrolled": true
   },
   "outputs": [
    {
     "name": "stdout",
     "output_type": "stream",
     "text": [
      "OctTree:\n",
      "- boundary: SpaceTimeRectangle(west=-180, east=180, south=-90, north=90, start=datetime.datetime(1900, 1, 1, 0, 0), end=datetime.datetime(1900, 1, 31, 23, 0))\n",
      "- capacity: 10\n",
      "- depth: 0\n",
      "- max_depth: 25\n",
      "- contents:\n",
      "- number of elements: 10\n",
      "  * SpaceTimeRecord(x = -97, y = -25, datetime = 1900-01-26 20:00:00, uid = 83KZsW7d)\n",
      "  * SpaceTimeRecord(x = 122, y = 61, datetime = 1900-01-23 15:00:00, uid = rzowifI9)\n",
      "  * SpaceTimeRecord(x = -117, y = 7, datetime = 1900-01-31 18:00:00, uid = rtz7EkDZ)\n",
      "  * SpaceTimeRecord(x = -149, y = -83, datetime = 1900-01-09 04:00:00, uid = b4sXE5Ln)\n",
      "  * SpaceTimeRecord(x = -38, y = 26, datetime = 1900-01-09 18:00:00, uid = yHlQkDSM)\n",
      "  * SpaceTimeRecord(x = 66, y = -74, datetime = 1900-01-03 05:00:00, uid = escH22nT)\n",
      "  * SpaceTimeRecord(x = -55, y = -42, datetime = 1900-01-19 13:00:00, uid = 5eBXDbF2)\n",
      "  * SpaceTimeRecord(x = 98, y = 32, datetime = 1900-01-04 17:00:00, uid = 95aXuR5c)\n",
      "  * SpaceTimeRecord(x = -19, y = -32, datetime = 1900-01-15 06:00:00, uid = nEfR4rML)\n",
      "  * SpaceTimeRecord(x = -12, y = -17, datetime = 1900-01-21 04:00:00, uid = sd1xriTc)\n",
      "- with children:\n",
      "    OctTree:\n",
      "    - boundary: SpaceTimeRectangle(west=-180, east=0.0, south=0.0, north=90, start=datetime.datetime(1900, 1, 1, 0, 0), end=datetime.datetime(1900, 1, 16, 11, 30))\n",
      "    - capacity: 10\n",
      "    - depth: 1\n",
      "    - max_depth: 25\n",
      "    - contents:\n",
      "    - number of elements: 10\n",
      "      * SpaceTimeRecord(x = -67, y = 48, datetime = 1900-01-03 08:00:00, uid = T3Uuetpx)\n",
      "      * SpaceTimeRecord(x = -17, y = 85, datetime = 1900-01-11 07:00:00, uid = PwdcxPXd)\n",
      "      * SpaceTimeRecord(x = -144, y = 15, datetime = 1900-01-07 13:00:00, uid = ajdVw95Y)\n",
      "      * SpaceTimeRecord(x = -80, y = 33, datetime = 1900-01-13 10:00:00, uid = qGDjKHUv)\n",
      "      * SpaceTimeRecord(x = -25, y = 5, datetime = 1900-01-11 03:00:00, uid = MY6qGtUQ)\n",
      "      * SpaceTimeRecord(x = -165, y = 22, datetime = 1900-01-15 21:00:00, uid = tNWf0gYG)\n",
      "      * SpaceTimeRecord(x = -167, y = 73, datetime = 1900-01-11 04:00:00, uid = 6jgsso1I)\n",
      "      * SpaceTimeRecord(x = -166, y = 73, datetime = 1900-01-03 18:00:00, uid = xC5oZX90)\n",
      "      * SpaceTimeRecord(x = -154, y = 38, datetime = 1900-01-10 17:00:00, uid = gBWmF6rB)\n",
      "      * SpaceTimeRecord(x = -169, y = 12, datetime = 1900-01-13 16:00:00, uid = g8rmdiPq)\n",
      "    - with children:\n",
      "        OctTree:\n",
      "        - boundary: SpaceTimeRectangle(west=-180, east=-90.0, south=45.0, north=90, start=datetime.datetime(1900, 1, 1, 0, 0), end=datetime.datetime(1900, 1, 8, 17, 45))\n",
      "        - capacity: 10\n",
      "        - depth: 2\n",
      "        - max_depth: 25\n",
      "        - contents:\n",
      "        - number of elements: 10\n",
      "          * SpaceTimeRecord(x = -153, y = 67, datetime = 1900-01-08 04:00:00, uid = dQnli05r)\n",
      "          * SpaceTimeRecord(x = -153, y = 61, datetime = 1900-01-07 14:00:00, uid = H9Fco3id)\n",
      "          * SpaceTimeRecord(x = -129, y = 55, datetime = 1900-01-01 16:00:00, uid = p23s3iWG)\n",
      "          * SpaceTimeRecord(x = -115, y = 83, datetime = 1900-01-06 21:00:00, uid = MJtWU8Qa)\n",
      "          * SpaceTimeRecord(x = -99, y = 75, datetime = 1900-01-04 12:00:00, uid = nE7w5rsB)\n",
      "          * SpaceTimeRecord(x = -101, y = 74, datetime = 1900-01-07 20:00:00, uid = HkqphzHi)\n",
      "          * SpaceTimeRecord(x = -152, y = 64, datetime = 1900-01-05 05:00:00, uid = YmJuurP5)\n",
      "          * SpaceTimeRecord(x = -101, y = 64, datetime = 1900-01-06 11:00:00, uid = AqWYd6Km)\n",
      "          * SpaceTimeRecord(x = -133, y = 53, datetime = 1900-01-06 16:00:00, uid = dBfHJOly)\n",
      "          * SpaceTimeRecord(x = -166, y = 87, datetime = 1900-01-02 00:00:00, uid = gDnjP5pW)\n",
      "        - with children:\n",
      "            OctTree:\n",
      "            - boundary: SpaceTimeRectangle(west=-180, east=-135.0, south=67.5, north=90, start=datetime.datetime(1900, 1, 1, 0, 0), end=datetime.datetime(1900, 1, 4, 20, 52, 30))\n",
      "            - capacity: 10\n",
      "            - depth: 3\n",
      "            - max_depth: 25\n",
      "            - contents:\n",
      "            - number of elements: 10\n",
      "              * SpaceTimeRecord(x = -163, y = 68, datetime = 1900-01-02 11:00:00, uid = K5kDGBaC)\n",
      "              * SpaceTimeRecord(x = -176, y = 81, datetime = 1900-01-04 05:00:00, uid = rpZ3qJzQ)\n",
      "              * SpaceTimeRecord(x = -156, y = 88, datetime = 1900-01-03 12:00:00, uid = blh3fLRQ)\n",
      "              * SpaceTimeRecord(x = -175, y = 82, datetime = 1900-01-04 11:00:00, uid = 61oYXXUz)\n",
      "              * SpaceTimeRecord(x = -163, y = 72, datetime = 1900-01-03 05:00:00, uid = jkEPKN1G)\n",
      "              * SpaceTimeRecord(x = -168, y = 81, datetime = 1900-01-01 07:00:00, uid = VWaXt4R1)\n",
      "              * SpaceTimeRecord(x = -172, y = 83, datetime = 1900-01-04 03:00:00, uid = cOo6q9l9)\n",
      "              * SpaceTimeRecord(x = -152, y = 76, datetime = 1900-01-03 22:00:00, uid = WMmRvZ80)\n",
      "              * SpaceTimeRecord(x = -175, y = 85, datetime = 1900-01-03 18:00:00, uid = 8N64wqbr)\n",
      "              * SpaceTimeRecord(x = -150, y = 79, datetime = 1900-01-01 18:00:00, uid = ofvBxXuw)\n",
      "            - with children:\n",
      "                OctTree:\n",
      "                - boundary: SpaceTimeRectangle(west=-180, east=-157.5, south=78.75, north=90, start=datetime.datetime(1900, 1, 1, 0, 0), end=datetime.datetime(1900, 1, 2, 22, 26, 15))\n",
      "                - capacity: 10\n",
      "                - depth: 4\n",
      "                - max_depth: 25\n",
      "                - contents:\n",
      "                - number of elements: 1\n",
      "                  * SpaceTimeRecord(x = -167, y = 89, datetime = 1900-01-02 03:00:00, uid = 8ce1Nbxl)\n",
      "                OctTree:\n",
      "                - boundary: SpaceTimeRectangle(west=-157.5, east=-135.0, south=78.75, north=90, start=datetime.datetime(1900, 1, 1, 0, 0), end=datetime.datetime(1900, 1, 2, 22, 26, 15))\n",
      "                - capacity: 10\n",
      "                - depth: 4\n",
      "                - max_depth: 25\n",
      "                OctTree:\n",
      "                - boundary: SpaceTimeRectangle(west=-180, east=-157.5, south=67.5, north=78.75, start=datetime.datetime(1900, 1, 1, 0, 0), end=datetime.datetime(1900, 1, 2, 22, 26, 15))\n",
      "                - capacity: 10\n",
      "                - depth: 4\n",
      "                - max_depth: 25\n",
      "                - contents:\n",
      "                - number of elements: 2\n",
      "                  * SpaceTimeRecord(x = -173, y = 71, datetime = 1900-01-02 18:00:00, uid = kNrqdykY)\n",
      "                  * SpaceTimeRecord(x = -172, y = 69, datetime = 1900-01-01 22:00:00, uid = cQzEEFvN)\n",
      "                OctTree:\n",
      "                - boundary: SpaceTimeRectangle(west=-157.5, east=-135.0, south=67.5, north=78.75, start=datetime.datetime(1900, 1, 1, 0, 0), end=datetime.datetime(1900, 1, 2, 22, 26, 15))\n",
      "                - capacity: 10\n",
      "                - depth: 4\n",
      "                - max_depth: 25\n",
      "                OctTree:\n"
     ]
    }
   ],
   "source": [
    "s = str(otree)\n",
    "print(\"\\n\".join(s.split(\"\\n\")[:100]))"
   ]
  },
  {
   "cell_type": "markdown",
   "id": "6b02c2ea-6566-47c2-97e0-43d8b18e0713",
   "metadata": {},
   "source": [
    "## Time Execution\n",
    "\n",
    "Testing the identification of nearby points against the original full search"
   ]
  },
  {
   "cell_type": "code",
   "execution_count": 8,
   "id": "094b588c-e938-4838-9719-1defdfff74fa",
   "metadata": {},
   "outputs": [],
   "source": [
    "dts = pl.datetime_range(\n",
    "    datetime(1900, 1, 1),\n",
    "    datetime(1900, 2, 1),\n",
    "    interval=\"1h\",\n",
    "    eager=True,\n",
    "    closed=\"left\",\n",
    ")\n",
    "n = dts.len()\n",
    "lons = 180 - 360 * np.random.rand(n)\n",
    "lats = 90 - 180 * np.random.rand(n)\n",
    "test_df = pl.DataFrame({\"lon\": lons, \"lat\": lats, \"datetime\": dts})\n",
    "test_recs = [Record(*r) for r in test_df.rows()]\n",
    "dt = timedelta(days=1)\n",
    "dist = 350"
   ]
  },
  {
   "cell_type": "code",
   "execution_count": 9,
   "id": "66a48b86-d449-45d2-9837-2b3e07f5563d",
   "metadata": {},
   "outputs": [
    {
     "name": "stdout",
     "output_type": "stream",
     "text": [
      "201 μs ± 5.79 μs per loop (mean ± std. dev. of 7 runs, 1,000 loops each)\n"
     ]
    }
   ],
   "source": [
    "%%timeit\n",
    "otree.nearby_points(random.choice(test_recs), dist=dist, t_dist=dt)"
   ]
  },
  {
   "cell_type": "code",
   "execution_count": 10,
   "id": "972d4a16-39fd-4f80-8592-1c5d5cabf5be",
   "metadata": {
    "jupyter": {
     "source_hidden": true
    }
   },
   "outputs": [],
   "source": [
    "def check_cols(\n",
    "    df: pl.DataFrame | pl.LazyFrame,\n",
    "    cols: list[str],\n",
    "    var_name: str = \"dataframe\",\n",
    ") -> None:\n",
    "    \"\"\"\n",
    "    Check that a dataframe contains a list of columns. Raises an error if not.\n",
    "\n",
    "    Parameters\n",
    "    ----------\n",
    "    df : polars Frame\n",
    "        Dataframe to check\n",
    "    cols : list[str]\n",
    "        Required columns\n",
    "    var_name : str\n",
    "        Name of the Frame - used for displaying in any error.\n",
    "    \"\"\"\n",
    "    calling_func = inspect.stack()[1][3]\n",
    "    if isinstance(df, pl.DataFrame):\n",
    "        have_cols = df.columns\n",
    "    elif isinstance(df, pl.LazyFrame):\n",
    "        have_cols = df.collect_schema().names()\n",
    "    else:\n",
    "        raise TypeError(\"Input Frame is not a polars Frame\")\n",
    "\n",
    "    cols_in_frame = intersect(cols, have_cols)\n",
    "    missing = [c for c in cols if c not in cols_in_frame]\n",
    "\n",
    "    if len(missing) > 0:\n",
    "        err_str = f\"({calling_func}) - {var_name} missing required columns. \"\n",
    "        err_str += f\"Require: {', '.join(cols)}. \"\n",
    "        err_str += f\"Missing: {', '.join(missing)}.\"\n",
    "        raise ValueError(err_str)\n",
    "\n",
    "    return\n",
    "\n",
    "\n",
    "def haversine_df(\n",
    "    df: pl.DataFrame | pl.LazyFrame,\n",
    "    lon: float,\n",
    "    lat: float,\n",
    "    radius: float = 6371,\n",
    "    lon_col: str = \"lon\",\n",
    "    lat_col: str = \"lat\",\n",
    ") -> pl.DataFrame | pl.LazyFrame:\n",
    "    \"\"\"\n",
    "    Compute haversine distance on earth surface between lon-lat positions\n",
    "    in a polars DataFrame and a lon-lat position.\n",
    "\n",
    "    Parameters\n",
    "    ----------\n",
    "    df : polars.DataFrame\n",
    "        The data, containing required columns:\n",
    "            * lon_col\n",
    "            * lat_col\n",
    "            * date_var\n",
    "    lon : float\n",
    "        The longitude of the position.\n",
    "    lat : float\n",
    "        The latitude of the position.\n",
    "    radius : float\n",
    "        Radius of earth in km\n",
    "    lon_col : str\n",
    "        Name of the longitude column\n",
    "    lat_col : str\n",
    "        Name of the latitude column\n",
    "\n",
    "    Returns\n",
    "    -------\n",
    "    polars.DataFrame\n",
    "        With additional column specifying distances between consecutive points\n",
    "        in the same units as 'R'. With colname defined by 'out_colname'.\n",
    "    \"\"\"\n",
    "    required_cols = [lon_col, lat_col]\n",
    "\n",
    "    check_cols(df, required_cols, \"df\")\n",
    "    return (\n",
    "        df.with_columns(\n",
    "            [\n",
    "                pl.col(lat_col).radians().alias(\"_lat0\"),\n",
    "                pl.lit(lat).radians().alias(\"_lat1\"),\n",
    "                (pl.col(lon_col) - lon).radians().alias(\"_dlon\"),\n",
    "                (pl.col(lat_col) - lat).radians().alias(\"_dlat\"),\n",
    "            ]\n",
    "        )\n",
    "        .with_columns(\n",
    "            (\n",
    "                (pl.col(\"_dlat\") / 2).sin().pow(2)\n",
    "                + pl.col(\"_lat0\").cos()\n",
    "                * pl.col(\"_lat1\").cos()\n",
    "                * (pl.col(\"_dlon\") / 2).sin().pow(2)\n",
    "            ).alias(\"_a\")\n",
    "        )\n",
    "        .with_columns(\n",
    "            (2 * radius * (pl.col(\"_a\").sqrt().arcsin()))\n",
    "            .round(2)\n",
    "            .alias(\"_dist\")\n",
    "        )\n",
    "        .drop([\"_lat0\", \"_lat1\", \"_dlon\", \"_dlat\", \"_a\"])\n",
    "    )\n",
    "\n",
    "\n",
    "def intersect(a, b) -> set:\n",
    "    \"\"\"Intersection of a and b, items in both a and b\"\"\"\n",
    "    return set(a) & set(b)\n",
    "\n",
    "\n",
    "def nearby_ships(\n",
    "    lon: float,\n",
    "    lat: float,\n",
    "    pool: pl.DataFrame,\n",
    "    max_dist: float,\n",
    "    lon_col: str = \"lon\",\n",
    "    lat_col: str = \"lat\",\n",
    "    dt: datetime | None = None,\n",
    "    date_col: str | None = None,\n",
    "    dt_gap: timedelta | None = None,\n",
    "    filter_datetime: bool = False,\n",
    ") -> pl.DataFrame:\n",
    "    \"\"\"\n",
    "    Find observations nearby to a position in space (and optionally time).\n",
    "\n",
    "    Get a frame of all records that are within a maximum distance of the\n",
    "    provided point.\n",
    "\n",
    "    If filter_datetime is True, then only records from the same datetime will\n",
    "    be returned. If a specific filter is desired this should be performed\n",
    "    before calling this function and set filter_datetime to False.\n",
    "\n",
    "    Parameters\n",
    "    ----------\n",
    "    lon : float\n",
    "        The longitude of the position.\n",
    "    lat : float\n",
    "        The latitude of the position.\n",
    "    pool : polars.DataFrame\n",
    "        The pool of records to search. Can be pre-filtered and filter_datetime\n",
    "        set to False.\n",
    "    max_dist : float\n",
    "        Will return records that have distance to the point <= this value.\n",
    "    lon_col : str\n",
    "        Name of the longitude column in the pool DataFrame\n",
    "    lat_col : str\n",
    "        Name of the latitude column in the pool DataFrame\n",
    "    dt : datetime | None\n",
    "        Datetime of the record. Must be set if filter_datetime is True.\n",
    "    date_col : str | None\n",
    "        Name of the datetime column in the pool. Must be set if filter_datetime\n",
    "        is True.\n",
    "    dt_gap : timedelta | None\n",
    "        Allowed time-gap for records. Records that fall between\n",
    "        dt - dt_gap and dt + dt_gap will be returned. If not set then only\n",
    "        records at dt will be returned. Applies if filter_datetime is True.\n",
    "    filter_datetime : bool\n",
    "        Only return records at the same datetime record as the input value. If\n",
    "        assessing multiple points with different datetimes, hence calling this\n",
    "        function frequently it will be more efficient to partition the pool\n",
    "        first, then set this value to False and only input the subset of data.\n",
    "\n",
    "    Returns\n",
    "    -------\n",
    "    polars.DataFrame\n",
    "        Containing only records from the pool within max_dist of the input\n",
    "        point, optionally at the same datetime if filter_datetime is True.\n",
    "    \"\"\"\n",
    "    required_cols = [lon_col, lat_col]\n",
    "    check_cols(pool, required_cols, \"pool\")\n",
    "\n",
    "    if filter_datetime:\n",
    "        if not dt or not date_col:\n",
    "            raise ValueError(\n",
    "                \"'dt' and 'date_col' must be provided if 'filter_datetime' \"\n",
    "                + \"is True\"\n",
    "            )\n",
    "        if date_col not in pool.columns:\n",
    "            raise ValueError(f\"'date_col' value {date_col} not found in pool.\")\n",
    "        if not dt_gap:\n",
    "            pool = pool.filter(pl.col(date_col).eq(dt))\n",
    "        else:\n",
    "            pool = pool.filter(\n",
    "                pl.col(date_col).is_between(\n",
    "                    dt - dt_gap, dt + dt_gap, closed=\"both\"\n",
    "                )\n",
    "            )\n",
    "\n",
    "    return (\n",
    "        pool.pipe(\n",
    "            haversine_df,\n",
    "            lon=lon,\n",
    "            lat=lat,\n",
    "            lon_col=lon_col,\n",
    "            lat_col=lat_col,\n",
    "        )\n",
    "        .filter(pl.col(\"_dist\").le(max_dist))\n",
    "        .drop([\"_dist\"])\n",
    "    )"
   ]
  },
  {
   "cell_type": "markdown",
   "id": "08cba819-1ebe-48b3-85c7-3fd7469399f8",
   "metadata": {},
   "source": [
    "## Generate Data\n",
    "\n",
    "16,000 rows of data"
   ]
  },
  {
   "cell_type": "code",
   "execution_count": 11,
   "id": "7ca1a067",
   "metadata": {},
   "outputs": [],
   "source": [
    "def generate_uid(n: int) -> str:\n",
    "    \"\"\"Generates a pseudo uid by randomly selecting from characters\"\"\"\n",
    "    chars = ascii_letters + digits\n",
    "    return \"\".join(random.choice(chars) for _ in range(n))"
   ]
  },
  {
   "cell_type": "code",
   "execution_count": 12,
   "id": "85b6f41f",
   "metadata": {},
   "outputs": [],
   "source": [
    "n = 16_000\n",
    "lons = pl.int_range(-180, 180, eager=True)\n",
    "lats = pl.int_range(-90, 90, eager=True)\n",
    "dates = pl.datetime_range(\n",
    "    datetime(1900, 1, 1, 0),\n",
    "    datetime(1900, 1, 31, 23),\n",
    "    interval=\"1h\",\n",
    "    eager=True,\n",
    ")\n",
    "\n",
    "lons_use = lons.sample(N, with_replacement=True).alias(\"lon\")\n",
    "lats_use = lats.sample(N, with_replacement=True).alias(\"lat\")\n",
    "dates_use = dates.sample(N, with_replacement=True).alias(\"datetime\")\n",
    "uids = pl.Series(\"uid\", [generate_uid(8) for _ in range(n)])\n",
    "\n",
    "df = pl.DataFrame([lons_use, lats_use, dates_use, uids]).unique()"
   ]
  },
  {
   "cell_type": "markdown",
   "id": "95eb9494",
   "metadata": {},
   "source": [
    "## Add extra rows\n",
    "\n",
    "For testing larger datasets. Uncomment to use."
   ]
  },
  {
   "cell_type": "code",
   "execution_count": 13,
   "id": "0ad0b444",
   "metadata": {},
   "outputs": [],
   "source": [
    "# _df = df.clone()\n",
    "# for i in range(100):\n",
    "#     df2 = pl.DataFrame(\n",
    "#         [\n",
    "#             _df[\"lon\"].shuffle(),\n",
    "#             _df[\"lat\"].shuffle(),\n",
    "#             _df[\"datetime\"].shuffle(),\n",
    "#             _df[\"uid\"].shuffle(),\n",
    "#         ]\n",
    "#     ).with_columns(\n",
    "#         pl.concat_str([pl.col(\"uid\"), pl.lit(f\"{i:03d}\")]).alias(\"uid\")\n",
    "#     )\n",
    "#     df = df.vstack(df2)\n",
    "# df.shape\n",
    "# df"
   ]
  },
  {
   "cell_type": "markdown",
   "id": "0b917df4",
   "metadata": {},
   "source": [
    "## Initialise the OctTree Object\n",
    "\n",
    "There is an overhead in constructing the `OctTree` class. The performance benefits appear if multiple neighbourhood searches are performed."
   ]
  },
  {
   "cell_type": "code",
   "execution_count": 14,
   "id": "9652936b",
   "metadata": {},
   "outputs": [],
   "source": [
    "bounds = Rectangle(\n",
    "    -180,\n",
    "    180,\n",
    "    -90,\n",
    "    90,\n",
    "    datetime(1900, 1, 1, 0),\n",
    "    datetime(1900, 1, 31, 23),\n",
    ")\n",
    "otree = OctTree(bounds, capacity=10, max_depth=25)"
   ]
  },
  {
   "cell_type": "code",
   "execution_count": 15,
   "id": "71c3bd6d",
   "metadata": {},
   "outputs": [
    {
     "name": "stdout",
     "output_type": "stream",
     "text": [
      "CPU times: user 88.1 ms, sys: 2.26 ms, total: 90.4 ms\n",
      "Wall time: 89.9 ms\n"
     ]
    }
   ],
   "source": [
    "%%time\n",
    "for r in df.rows():\n",
    "    otree.insert(Record(*r))"
   ]
  },
  {
   "cell_type": "markdown",
   "id": "94be9d8a-02fc-49f2-98c9-0bcf250b1d10",
   "metadata": {},
   "source": [
    "### View the `OctTree`\n",
    "\n",
    "It is a nested object, with child `OctTree` objects in each octant of the space-time domain."
   ]
  },
  {
   "cell_type": "code",
   "execution_count": 16,
   "id": "6da22647",
   "metadata": {
    "scrolled": true
   },
   "outputs": [
    {
     "name": "stdout",
     "output_type": "stream",
     "text": [
      "OctTree:\n",
      "- boundary: SpaceTimeRectangle(west=-180, east=180, south=-90, north=90, start=datetime.datetime(1900, 1, 1, 0, 0), end=datetime.datetime(1900, 1, 31, 23, 0))\n",
      "- capacity: 10\n",
      "- depth: 0\n",
      "- max_depth: 25\n",
      "- contents:\n",
      "- number of elements: 10\n",
      "  * SpaceTimeRecord(x = -29, y = 76, datetime = 1900-01-17 00:00:00, uid = FOmIMjNT)\n",
      "  * SpaceTimeRecord(x = 39, y = -13, datetime = 1900-01-13 10:00:00, uid = G8qd5M6x)\n",
      "  * SpaceTimeRecord(x = 97, y = -50, datetime = 1900-01-03 16:00:00, uid = HKcRy0fG)\n",
      "  * SpaceTimeRecord(x = 51, y = 26, datetime = 1900-01-26 04:00:00, uid = usLoRBso)\n",
      "  * SpaceTimeRecord(x = 154, y = -63, datetime = 1900-01-13 07:00:00, uid = cQbSEA8M)\n",
      "  * SpaceTimeRecord(x = -68, y = 62, datetime = 1900-01-02 21:00:00, uid = amIVe6Jt)\n",
      "  * SpaceTimeRecord(x = 163, y = 0, datetime = 1900-01-23 23:00:00, uid = TnN6iFeH)\n",
      "  * SpaceTimeRecord(x = 23, y = -76, datetime = 1900-01-07 09:00:00, uid = h357gUyN)\n",
      "  * SpaceTimeRecord(x = 54, y = -46, datetime = 1900-01-07 12:00:00, uid = 86D6fZSA)\n",
      "  * SpaceTimeRecord(x = 144, y = 12, datetime = 1900-01-21 19:00:00, uid = ZBnqMFgn)\n",
      "- with children:\n",
      "    OctTree:\n",
      "    - boundary: SpaceTimeRectangle(west=-180, east=0.0, south=0.0, north=90, start=datetime.datetime(1900, 1, 1, 0, 0), end=datetime.datetime(1900, 1, 16, 11, 30))\n",
      "    - capacity: 10\n",
      "    - depth: 1\n",
      "    - max_depth: 25\n",
      "    - contents:\n",
      "    - number of elements: 10\n",
      "      * SpaceTimeRecord(x = -12, y = 13, datetime = 1900-01-15 17:00:00, uid = nRPBvGUF)\n",
      "      * SpaceTimeRecord(x = -28, y = 69, datetime = 1900-01-07 08:00:00, uid = UBcQi3zd)\n",
      "      * SpaceTimeRecord(x = -102, y = 59, datetime = 1900-01-11 16:00:00, uid = 0H6M2HX9)\n",
      "      * SpaceTimeRecord(x = -144, y = 43, datetime = 1900-01-05 18:00:00, uid = O2BAg9cK)\n",
      "      * SpaceTimeRecord(x = -174, y = 88, datetime = 1900-01-02 12:00:00, uid = VOAYL7T1)\n",
      "      * SpaceTimeRecord(x = -58, y = 32, datetime = 1900-01-15 18:00:00, uid = pjGXiuS4)\n",
      "      * SpaceTimeRecord(x = -13, y = 45, datetime = 1900-01-14 00:00:00, uid = j8BN7Srq)\n",
      "      * SpaceTimeRecord(x = -15, y = 32, datetime = 1900-01-13 15:00:00, uid = J2VgXvxy)\n",
      "      * SpaceTimeRecord(x = -60, y = 12, datetime = 1900-01-04 23:00:00, uid = 07uOzsip)\n",
      "      * SpaceTimeRecord(x = -127, y = 85, datetime = 1900-01-01 14:00:00, uid = jHyMRkFP)\n",
      "    - with children:\n",
      "        OctTree:\n",
      "        - boundary: SpaceTimeRectangle(west=-180, east=-90.0, south=45.0, north=90, start=datetime.datetime(1900, 1, 1, 0, 0), end=datetime.datetime(1900, 1, 8, 17, 45))\n",
      "        - capacity: 10\n",
      "        - depth: 2\n",
      "        - max_depth: 25\n",
      "        - contents:\n",
      "        - number of elements: 10\n",
      "          * SpaceTimeRecord(x = -106, y = 69, datetime = 1900-01-01 13:00:00, uid = JKn1gphp)\n",
      "          * SpaceTimeRecord(x = -122, y = 45, datetime = 1900-01-07 20:00:00, uid = EXKdhvEm)\n",
      "          * SpaceTimeRecord(x = -98, y = 88, datetime = 1900-01-08 04:00:00, uid = UvD6wGCD)\n",
      "          * SpaceTimeRecord(x = -113, y = 78, datetime = 1900-01-04 05:00:00, uid = TJjntwj6)\n",
      "          * SpaceTimeRecord(x = -165, y = 63, datetime = 1900-01-06 02:00:00, uid = Ad5QYCPl)\n",
      "          * SpaceTimeRecord(x = -156, y = 53, datetime = 1900-01-04 04:00:00, uid = wl8kyWw4)\n",
      "          * SpaceTimeRecord(x = -146, y = 57, datetime = 1900-01-02 17:00:00, uid = cq8OVG3N)\n",
      "          * SpaceTimeRecord(x = -106, y = 88, datetime = 1900-01-01 17:00:00, uid = Z7EV8s20)\n",
      "          * SpaceTimeRecord(x = -132, y = 64, datetime = 1900-01-05 08:00:00, uid = x3DgbscT)\n",
      "          * SpaceTimeRecord(x = -144, y = 76, datetime = 1900-01-02 03:00:00, uid = jq6NUixt)\n",
      "        - with children:\n",
      "            OctTree:\n",
      "            - boundary: SpaceTimeRectangle(west=-180, east=-135.0, south=67.5, north=90, start=datetime.datetime(1900, 1, 1, 0, 0), end=datetime.datetime(1900, 1, 4, 20, 52, 30))\n",
      "            - capacity: 10\n",
      "            - depth: 3\n",
      "            - max_depth: 25\n",
      "            - contents:\n",
      "            - number of elements: 10\n",
      "              * SpaceTimeRecord(x = -167, y = 71, datetime = 1900-01-01 06:00:00, uid = reuNbqdV)\n",
      "              * SpaceTimeRecord(x = -160, y = 82, datetime = 1900-01-03 23:00:00, uid = RpEy4Hl6)\n",
      "              * SpaceTimeRecord(x = -154, y = 77, datetime = 1900-01-03 19:00:00, uid = v2PDs012)\n",
      "              * SpaceTimeRecord(x = -180, y = 74, datetime = 1900-01-01 02:00:00, uid = rIm7RlIl)\n",
      "              * SpaceTimeRecord(x = -180, y = 84, datetime = 1900-01-02 01:00:00, uid = QwakJ5Vb)\n",
      "              * SpaceTimeRecord(x = -167, y = 79, datetime = 1900-01-02 02:00:00, uid = 2W8NS6L6)\n",
      "              * SpaceTimeRecord(x = -164, y = 81, datetime = 1900-01-04 02:00:00, uid = pgUbFAgs)\n",
      "              * SpaceTimeRecord(x = -145, y = 87, datetime = 1900-01-01 04:00:00, uid = MJpl7Jba)\n",
      "              * SpaceTimeRecord(x = -157, y = 83, datetime = 1900-01-01 08:00:00, uid = akYsyVH7)\n",
      "              * SpaceTimeRecord(x = -149, y = 74, datetime = 1900-01-01 23:00:00, uid = S3SY5Z5A)\n",
      "            - with children:\n",
      "                OctTree:\n",
      "                - boundary: SpaceTimeRectangle(west=-180, east=-157.5, south=78.75, north=90, start=datetime.datetime(1900, 1, 1, 0, 0), end=datetime.datetime(1900, 1, 2, 22, 26, 15))\n",
      "                - capacity: 10\n",
      "                - depth: 4\n",
      "                - max_depth: 25\n",
      "                OctTree:\n",
      "                - boundary: SpaceTimeRectangle(west=-157.5, east=-135.0, south=78.75, north=90, start=datetime.datetime(1900, 1, 1, 0, 0), end=datetime.datetime(1900, 1, 2, 22, 26, 15))\n",
      "                - capacity: 10\n",
      "                - depth: 4\n",
      "                - max_depth: 25\n",
      "                - contents:\n",
      "                - number of elements: 5\n",
      "                  * SpaceTimeRecord(x = -153, y = 81, datetime = 1900-01-02 06:00:00, uid = 9RIvwLrn)\n",
      "                  * SpaceTimeRecord(x = -141, y = 87, datetime = 1900-01-01 03:00:00, uid = qAW4E1Nf)\n",
      "                  * SpaceTimeRecord(x = -144, y = 89, datetime = 1900-01-01 15:00:00, uid = jfwNEEXd)\n",
      "                  * SpaceTimeRecord(x = -135, y = 88, datetime = 1900-01-01 18:00:00, uid = Ix5yewjw)\n",
      "                  * SpaceTimeRecord(x = -148, y = 84, datetime = 1900-01-02 17:00:00, uid = tgtn5cTF)\n",
      "                OctTree:\n",
      "                - boundary: SpaceTimeRectangle(west=-180, east=-157.5, south=67.5, north=78.75, start=datetime.datetime(1900, 1, 1, 0, 0), end=datetime.datetime(1900, 1, 2, 22, 26, 15))\n",
      "                - capacity: 10\n",
      "                - depth: 4\n",
      "                - max_depth: 25\n",
      "                - contents:\n",
      "                - number of elements: 1\n",
      "                  * SpaceTimeRecord(x = -158, y = 77, datetime = 1900-01-01 21:00:00, uid = ynn2Unjr)\n",
      "                OctTree:\n",
      "                - boundary: SpaceTimeRectangle(west=-157.5, east=-135.0, south=67.5, north=78.75, start=datetime.datetime(1900, 1, 1, 0, 0), end=datetime.datetime(1900, 1, 2, 22, 26, 15))\n",
      "                - capacity: 10\n"
     ]
    }
   ],
   "source": [
    "s = str(otree)\n",
    "print(\"\\n\".join(s.split(\"\\n\")[:100]))"
   ]
  },
  {
   "cell_type": "markdown",
   "id": "f0f9432a",
   "metadata": {},
   "source": [
    "## Time Execution\n",
    "\n",
    "Testing the identification of nearby points against the original full search"
   ]
  },
  {
   "cell_type": "code",
   "execution_count": 17,
   "id": "c738cfa4",
   "metadata": {},
   "outputs": [],
   "source": [
    "dts = pl.datetime_range(\n",
    "    datetime(1900, 1, 1),\n",
    "    datetime(1900, 2, 1),\n",
    "    interval=\"1h\",\n",
    "    eager=True,\n",
    "    closed=\"left\",\n",
    ")\n",
    "N = dts.len()\n",
    "lons = 180 - 360 * np.random.rand(N)\n",
    "lats = 90 - 180 * np.random.rand(N)\n",
    "test_df = pl.DataFrame({\"lon\": lons, \"lat\": lats, \"datetime\": dts})\n",
    "test_recs = [Record(*r) for r in test_df.rows()]\n",
    "dt = timedelta(days=1)\n",
    "dist = 350"
   ]
  },
  {
   "cell_type": "code",
   "execution_count": 18,
   "id": "d4adcfb9",
   "metadata": {},
   "outputs": [
    {
     "name": "stdout",
     "output_type": "stream",
     "text": [
      "203 μs ± 3.29 μs per loop (mean ± std. dev. of 7 runs, 10,000 loops each)\n"
     ]
    }
   ],
   "source": [
    "%%timeit\n",
    "otree.nearby_points(random.choice(test_recs), dist=dist, t_dist=dt)"
   ]
  },
  {
   "cell_type": "code",
   "execution_count": 19,
   "id": "8b9279ed-6f89-4423-8833-acd0b365eb7b",
   "metadata": {
    "scrolled": true
   },
   "outputs": [
    {
     "name": "stdout",
     "output_type": "stream",
     "text": [
      "5.55 ms ± 52.2 μs per loop (mean ± std. dev. of 7 runs, 100 loops each)\n"
     ]
    }
   ],
   "source": [
    "%%timeit\n",
    "rec = random.choice(test_recs)\n",
    "nearby_ships(\n",
    "    lon=rec.lon,\n",
    "    lat=rec.lat,\n",
    "    dt=rec.datetime,\n",
    "    max_dist=dist,\n",
    "    dt_gap=dt,\n",
    "    date_col=\"datetime\",\n",
    "    pool=df,\n",
    "    filter_datetime=True,\n",
    ")"
   ]
  },
  {
   "cell_type": "markdown",
   "id": "d148f129-9d8c-4c46-8f01-3e9c1e93e81a",
   "metadata": {},
   "source": [
    "## Verify\n",
    "\n",
    "Check that records are the same"
   ]
  },
  {
   "cell_type": "code",
   "execution_count": 20,
   "id": "11f3d73a-fbe5-4f27-88d8-d0d687bd0eac",
   "metadata": {},
   "outputs": [
    {
     "name": "stdout",
     "output_type": "stream",
     "text": [
      "CPU times: user 2.5 s, sys: 195 ms, total: 2.69 s\n",
      "Wall time: 2.68 s\n"
     ]
    }
   ],
   "source": [
    "%%time\n",
    "dist = 250\n",
    "for _ in range(250):\n",
    "    rec = Record(*random.choice(df.rows()))\n",
    "    orig = nearby_ships(\n",
    "        lon=rec.lon,\n",
    "        lat=rec.lat,\n",
    "        dt=rec.datetime,\n",
    "        max_dist=dist,\n",
    "        dt_gap=dt,\n",
    "        date_col=\"datetime\",\n",
    "        pool=df,\n",
    "        filter_datetime=True,\n",
    "    )\n",
    "    tree = otree.nearby_points(rec, dist=dist, t_dist=dt)\n",
    "    if orig.height > 0:\n",
    "        if not tree:\n",
    "            print(rec)\n",
    "            print(\"NO TREE!\")\n",
    "            print(f\"{orig = }\")\n",
    "        else:\n",
    "            tree = pl.from_records(\n",
    "                [(r.lon, r.lat, r.datetime, r.uid) for r in tree], orient=\"row\"\n",
    "            ).rename(\n",
    "                {\n",
    "                    \"column_0\": \"lon\",\n",
    "                    \"column_1\": \"lat\",\n",
    "                    \"column_2\": \"datetime\",\n",
    "                    \"column_3\": \"uid\",\n",
    "                }\n",
    "            )\n",
    "            if tree.height != orig.height:\n",
    "                print(\"Tree and Orig Heights Do Not Match\")\n",
    "                print(f\"{orig = }\")\n",
    "                print(f\"{tree = }\")\n",
    "            else:\n",
    "                # tree = tree.with_columns(pl.col(\"uid\").str.slice(0, 6))\n",
    "                if not tree.sort(\"uid\").equals(orig.sort(\"uid\")):\n",
    "                    print(\"Tree and Orig Do Not Match\")\n",
    "                    print(f\"{orig = }\")\n",
    "                    print(f\"{tree = }\")"
   ]
  },
  {
   "cell_type": "markdown",
   "id": "1223529e-bfae-4b83-aba7-505d05e588d3",
   "metadata": {},
   "source": [
    "## Check -180/180 boundary\n",
    "\n",
    "Expect to see `SpaceTimeRecord`s with both positive and negative `\"x\"` values"
   ]
  },
  {
   "cell_type": "code",
   "execution_count": 21,
   "id": "4c392292-2d9f-4301-afb5-019fde069a1e",
   "metadata": {},
   "outputs": [
    {
     "name": "stdout",
     "output_type": "stream",
     "text": [
      "SpaceTimeRecord(x = -179, y = -42, datetime = 1900-01-14 15:00:00, uid = zEo8ZvH3)\n"
     ]
    }
   ],
   "source": [
    "out = otree.nearby_points(\n",
    "    Record(179.5, -43.1, datetime(1900, 1, 14, 13)),\n",
    "    dist=200,\n",
    "    t_dist=timedelta(days=3),\n",
    ")\n",
    "for o in out:\n",
    "    print(o)"
   ]
  }
 ],
 "metadata": {
  "kernelspec": {
   "display_name": "geospatialtools",
   "language": "python",
   "name": "geospatialtools"
  },
  "language_info": {
   "codemirror_mode": {
    "name": "ipython",
    "version": 3
   },
   "file_extension": ".py",
   "mimetype": "text/x-python",
   "name": "python",
   "nbconvert_exporter": "python",
   "pygments_lexer": "ipython3",
   "version": "3.12.10"
  }
 },
 "nbformat": 4,
 "nbformat_minor": 5
}
