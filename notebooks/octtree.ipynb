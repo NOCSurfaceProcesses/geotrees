{
 "cells": [
  {
   "cell_type": "markdown",
   "id": "c70ce35d-6112-4c12-9387-9c788c84a8e9",
   "metadata": {},
   "source": [
    "## OctTree!\n",
    "\n",
    "Testing the time to look-up nearby records with the `OctTree` implementation.\n",
    "\n",
    "The `OctTree` is used to find records within a spatio-temporal range of a given point, or within a box defined by lon, lat, & time bounds."
   ]
  },
  {
   "cell_type": "code",
   "execution_count": 1,
   "id": "c0956916-f50a-444d-a5b6-f06d3fb9b44d",
   "metadata": {},
   "outputs": [],
   "source": [
    "import os\n",
    "\n",
    "\n",
    "os.environ[\"POLARS_MAX_THREADS\"] = \"1\"\n",
    "\n",
    "import inspect\n",
    "import random\n",
    "from datetime import datetime, timedelta\n",
    "from string import ascii_letters, digits\n",
    "\n",
    "import numpy as np\n",
    "import polars as pl\n",
    "\n",
    "from geotrees.octtree import OctTree\n",
    "from geotrees.record import SpaceTimeRecord as Record\n",
    "from geotrees.shape import SpaceTimeRectangle as Rectangle"
   ]
  },
  {
   "cell_type": "markdown",
   "id": "6b0e8015-b958-4be7-9e63-9e21f081011b",
   "metadata": {},
   "source": [
    "## Set-up functions\n",
    "\n",
    "For comparisons using brute-force approach"
   ]
  },
  {
   "cell_type": "code",
   "execution_count": 2,
   "id": "972d4a16-39fd-4f80-8592-1c5d5cabf5be",
   "metadata": {
    "jupyter": {
     "source_hidden": true
    }
   },
   "outputs": [],
   "source": [
    "def generate_uid(n: int) -> str:\n",
    "    \"\"\"Generates a pseudo uid by randomly selecting from characters\"\"\"\n",
    "    chars = ascii_letters + digits\n",
    "    return \"\".join(random.choice(chars) for _ in range(n))\n",
    "\n",
    "\n",
    "def check_cols(\n",
    "    df: pl.DataFrame | pl.LazyFrame,\n",
    "    cols: list[str],\n",
    "    var_name: str = \"dataframe\",\n",
    ") -> None:\n",
    "    \"\"\"\n",
    "    Check that a dataframe contains a list of columns. Raises an error if not.\n",
    "\n",
    "    Parameters\n",
    "    ----------\n",
    "    df : polars Frame\n",
    "        Dataframe to check\n",
    "    cols : list[str]\n",
    "        Required columns\n",
    "    var_name : str\n",
    "        Name of the Frame - used for displaying in any error.\n",
    "    \"\"\"\n",
    "    calling_func = inspect.stack()[1][3]\n",
    "    if isinstance(df, pl.DataFrame):\n",
    "        have_cols = df.columns\n",
    "    elif isinstance(df, pl.LazyFrame):\n",
    "        have_cols = df.collect_schema().names()\n",
    "    else:\n",
    "        raise TypeError(\"Input Frame is not a polars Frame\")\n",
    "\n",
    "    cols_in_frame = intersect(cols, have_cols)\n",
    "    missing = [c for c in cols if c not in cols_in_frame]\n",
    "\n",
    "    if len(missing) > 0:\n",
    "        err_str = f\"({calling_func}) - {var_name} missing required columns. \"\n",
    "        err_str += f\"Require: {', '.join(cols)}. \"\n",
    "        err_str += f\"Missing: {', '.join(missing)}.\"\n",
    "        raise ValueError(err_str)\n",
    "\n",
    "    return\n",
    "\n",
    "\n",
    "def haversine_df(\n",
    "    df: pl.DataFrame | pl.LazyFrame,\n",
    "    lon: float,\n",
    "    lat: float,\n",
    "    radius: float = 6371,\n",
    "    lon_col: str = \"lon\",\n",
    "    lat_col: str = \"lat\",\n",
    ") -> pl.DataFrame | pl.LazyFrame:\n",
    "    \"\"\"\n",
    "    Compute haversine distance on earth surface between lon-lat positions\n",
    "    in a polars DataFrame and a lon-lat position.\n",
    "\n",
    "    Parameters\n",
    "    ----------\n",
    "    df : polars.DataFrame\n",
    "        The data, containing required columns:\n",
    "            * lon_col\n",
    "            * lat_col\n",
    "            * date_var\n",
    "    lon : float\n",
    "        The longitude of the position.\n",
    "    lat : float\n",
    "        The latitude of the position.\n",
    "    radius : float\n",
    "        Radius of earth in km\n",
    "    lon_col : str\n",
    "        Name of the longitude column\n",
    "    lat_col : str\n",
    "        Name of the latitude column\n",
    "\n",
    "    Returns\n",
    "    -------\n",
    "    polars.DataFrame\n",
    "        With additional column specifying distances between consecutive points\n",
    "        in the same units as 'R'. With colname defined by 'out_colname'.\n",
    "    \"\"\"\n",
    "    required_cols = [lon_col, lat_col]\n",
    "\n",
    "    check_cols(df, required_cols, \"df\")\n",
    "    return (\n",
    "        df.with_columns(\n",
    "            [\n",
    "                pl.col(lat_col).radians().alias(\"_lat0\"),\n",
    "                pl.lit(lat).radians().alias(\"_lat1\"),\n",
    "                (pl.col(lon_col) - lon).radians().alias(\"_dlon\"),\n",
    "                (pl.col(lat_col) - lat).radians().alias(\"_dlat\"),\n",
    "            ]\n",
    "        )\n",
    "        .with_columns(\n",
    "            (\n",
    "                (pl.col(\"_dlat\") / 2).sin().pow(2)\n",
    "                + pl.col(\"_lat0\").cos()\n",
    "                * pl.col(\"_lat1\").cos()\n",
    "                * (pl.col(\"_dlon\") / 2).sin().pow(2)\n",
    "            ).alias(\"_a\")\n",
    "        )\n",
    "        .with_columns(\n",
    "            (2 * radius * (pl.col(\"_a\").sqrt().arcsin()))\n",
    "            .round(2)\n",
    "            .alias(\"_dist\")\n",
    "        )\n",
    "        .drop([\"_lat0\", \"_lat1\", \"_dlon\", \"_dlat\", \"_a\"])\n",
    "    )\n",
    "\n",
    "\n",
    "def intersect(a, b) -> set:\n",
    "    \"\"\"Intersection of a and b, items in both a and b\"\"\"\n",
    "    return set(a) & set(b)\n",
    "\n",
    "\n",
    "def nearby_ships(\n",
    "    lon: float,\n",
    "    lat: float,\n",
    "    pool: pl.DataFrame,\n",
    "    max_dist: float,\n",
    "    lon_col: str = \"lon\",\n",
    "    lat_col: str = \"lat\",\n",
    "    dt: datetime | None = None,\n",
    "    date_col: str | None = None,\n",
    "    dt_gap: timedelta | None = None,\n",
    "    filter_datetime: bool = False,\n",
    ") -> pl.DataFrame:\n",
    "    \"\"\"\n",
    "    Find observations nearby to a position in space (and optionally time).\n",
    "\n",
    "    Get a frame of all records that are within a maximum distance of the\n",
    "    provided point.\n",
    "\n",
    "    If filter_datetime is True, then only records from the same datetime will\n",
    "    be returned. If a specific filter is desired this should be performed\n",
    "    before calling this function and set filter_datetime to False.\n",
    "\n",
    "    Parameters\n",
    "    ----------\n",
    "    lon : float\n",
    "        The longitude of the position.\n",
    "    lat : float\n",
    "        The latitude of the position.\n",
    "    pool : polars.DataFrame\n",
    "        The pool of records to search. Can be pre-filtered and filter_datetime\n",
    "        set to False.\n",
    "    max_dist : float\n",
    "        Will return records that have distance to the point <= this value.\n",
    "    lon_col : str\n",
    "        Name of the longitude column in the pool DataFrame\n",
    "    lat_col : str\n",
    "        Name of the latitude column in the pool DataFrame\n",
    "    dt : datetime | None\n",
    "        Datetime of the record. Must be set if filter_datetime is True.\n",
    "    date_col : str | None\n",
    "        Name of the datetime column in the pool. Must be set if filter_datetime\n",
    "        is True.\n",
    "    dt_gap : timedelta | None\n",
    "        Allowed time-gap for records. Records that fall between\n",
    "        dt - dt_gap and dt + dt_gap will be returned. If not set then only\n",
    "        records at dt will be returned. Applies if filter_datetime is True.\n",
    "    filter_datetime : bool\n",
    "        Only return records at the same datetime record as the input value. If\n",
    "        assessing multiple points with different datetimes, hence calling this\n",
    "        function frequently it will be more efficient to partition the pool\n",
    "        first, then set this value to False and only input the subset of data.\n",
    "\n",
    "    Returns\n",
    "    -------\n",
    "    polars.DataFrame\n",
    "        Containing only records from the pool within max_dist of the input\n",
    "        point, optionally at the same datetime if filter_datetime is True.\n",
    "    \"\"\"\n",
    "    required_cols = [lon_col, lat_col]\n",
    "    check_cols(pool, required_cols, \"pool\")\n",
    "\n",
    "    if filter_datetime:\n",
    "        if not dt or not date_col:\n",
    "            raise ValueError(\n",
    "                \"'dt' and 'date_col' must be provided if 'filter_datetime' \"\n",
    "                + \"is True\"\n",
    "            )\n",
    "        if date_col not in pool.columns:\n",
    "            raise ValueError(f\"'date_col' value {date_col} not found in pool.\")\n",
    "        if not dt_gap:\n",
    "            pool = pool.filter(pl.col(date_col).eq(dt))\n",
    "        else:\n",
    "            pool = pool.filter(\n",
    "                pl.col(date_col).is_between(\n",
    "                    dt - dt_gap, dt + dt_gap, closed=\"both\"\n",
    "                )\n",
    "            )\n",
    "\n",
    "    return (\n",
    "        pool.pipe(\n",
    "            haversine_df,\n",
    "            lon=lon,\n",
    "            lat=lat,\n",
    "            lon_col=lon_col,\n",
    "            lat_col=lat_col,\n",
    "        )\n",
    "        .filter(pl.col(\"_dist\").le(max_dist))\n",
    "        .drop([\"_dist\"])\n",
    "    )"
   ]
  },
  {
   "cell_type": "code",
   "execution_count": 3,
   "id": "986d9cc5-e610-449a-9ee7-e281b7558ca9",
   "metadata": {},
   "outputs": [],
   "source": [
    "N = 16_000\n",
    "lons = pl.int_range(-180, 180, eager=True)\n",
    "lats = pl.int_range(-90, 90, eager=True)\n",
    "dates = pl.datetime_range(\n",
    "    datetime(1900, 1, 1, 0),\n",
    "    datetime(1900, 1, 31, 23),\n",
    "    interval=\"1h\",\n",
    "    eager=True,\n",
    ")\n",
    "\n",
    "lons_use = lons.sample(N, with_replacement=True).alias(\"lon\")\n",
    "lats_use = lats.sample(N, with_replacement=True).alias(\"lat\")\n",
    "dates_use = dates.sample(N, with_replacement=True).alias(\"datetime\")\n",
    "uids = pl.Series(\"uid\", [generate_uid(8) for _ in range(N)])\n",
    "\n",
    "df = pl.DataFrame([lons_use, lats_use, dates_use, uids]).unique()"
   ]
  },
  {
   "cell_type": "markdown",
   "id": "c7bd16e0-96a6-426b-b00a-7c3b8a2aaddd",
   "metadata": {},
   "source": [
    "## Initialise the OctTree Object"
   ]
  },
  {
   "cell_type": "code",
   "execution_count": 4,
   "id": "af06a976-ff52-49e0-a886-91bcbe540ffe",
   "metadata": {},
   "outputs": [],
   "source": [
    "otree = OctTree(\n",
    "    Rectangle(\n",
    "        -180, 180, -90, 90, datetime(1900, 1, 1, 0), datetime(1900, 1, 31, 23)\n",
    "    ),\n",
    "    capacity=10,\n",
    "    # max_depth=25,\n",
    ")"
   ]
  },
  {
   "cell_type": "code",
   "execution_count": 5,
   "id": "094b588c-e938-4838-9719-1defdfff74fa",
   "metadata": {},
   "outputs": [],
   "source": [
    "dts = pl.datetime_range(\n",
    "    datetime(1900, 1, 1),\n",
    "    datetime(1900, 2, 1),\n",
    "    interval=\"1h\",\n",
    "    eager=True,\n",
    "    closed=\"left\",\n",
    ")\n",
    "n = dts.len()\n",
    "lons = 180 - 360 * np.random.rand(n)\n",
    "lats = 90 - 180 * np.random.rand(n)\n",
    "test_df = pl.DataFrame({\"lon\": lons, \"lat\": lats, \"datetime\": dts})\n",
    "test_recs = [Record(*r) for r in test_df.rows()]\n",
    "dt = timedelta(days=1)\n",
    "dist = 350"
   ]
  },
  {
   "cell_type": "code",
   "execution_count": 6,
   "id": "63b16d23-6ee5-49f4-b496-681b63298150",
   "metadata": {},
   "outputs": [],
   "source": [
    "all_recs = [Record(**row) for row in df.rows(named=True)]"
   ]
  },
  {
   "cell_type": "markdown",
   "id": "6b02c2ea-6566-47c2-97e0-43d8b18e0713",
   "metadata": {},
   "source": [
    "## Time Execution\n",
    "\n",
    "Testing the identification of nearby points against the original full search.\n",
    "\n",
    "### Initialisation"
   ]
  },
  {
   "cell_type": "code",
   "execution_count": 7,
   "id": "2ba99b37-787c-4862-8075-a7596208c60e",
   "metadata": {},
   "outputs": [
    {
     "name": "stdout",
     "output_type": "stream",
     "text": [
      "CPU times: user 97.9 ms, sys: 2.38 ms, total: 100 ms\n",
      "Wall time: 99.5 ms\n"
     ]
    }
   ],
   "source": [
    "%%time\n",
    "for r in df.rows():\n",
    "    otree.insert(Record(*r))"
   ]
  },
  {
   "cell_type": "markdown",
   "id": "c56b369b-3236-4fce-940c-23b29eb10bef",
   "metadata": {},
   "source": [
    "### OctTree query"
   ]
  },
  {
   "cell_type": "code",
   "execution_count": 8,
   "id": "66a48b86-d449-45d2-9837-2b3e07f5563d",
   "metadata": {},
   "outputs": [
    {
     "name": "stdout",
     "output_type": "stream",
     "text": [
      "143 μs ± 66.8 μs per loop (mean ± std. dev. of 7 runs, 1,000 loops each)\n"
     ]
    }
   ],
   "source": [
    "%%timeit test_record = random.choice(test_recs)  # noqa: F821\n",
    "otree.nearby_points(test_record, dist=dist, t_dist=dt)"
   ]
  },
  {
   "cell_type": "markdown",
   "id": "f0fd2a46-432a-498d-a7a4-c5afcb1d21f7",
   "metadata": {},
   "source": [
    "### Brute Force"
   ]
  },
  {
   "cell_type": "code",
   "execution_count": 9,
   "id": "3947b78f-d5de-451a-840b-bab023f284c6",
   "metadata": {},
   "outputs": [
    {
     "name": "stdout",
     "output_type": "stream",
     "text": [
      "9.14 ms ± 124 μs per loop (mean ± std. dev. of 7 runs, 100 loops each)\n"
     ]
    }
   ],
   "source": [
    "%%timeit test_record = random.choice(test_recs)  # noqa: F821\n",
    "[\n",
    "    r\n",
    "    for r in all_recs\n",
    "    if r.distance(test_record) <= dist\n",
    "    and r.datetime <= test_record.datetime + dt\n",
    "    and r.datetime >= test_record.datetime - dt\n",
    "]"
   ]
  },
  {
   "cell_type": "code",
   "execution_count": 10,
   "id": "8b9279ed-6f89-4423-8833-acd0b365eb7b",
   "metadata": {
    "scrolled": true
   },
   "outputs": [
    {
     "name": "stdout",
     "output_type": "stream",
     "text": [
      "5.07 ms ± 110 μs per loop (mean ± std. dev. of 7 runs, 100 loops each)\n"
     ]
    }
   ],
   "source": [
    "%%timeit test_record = random.choice(test_recs)  # noqa: F821\n",
    "nearby_ships(\n",
    "    lon=test_record.lon,\n",
    "    lat=test_record.lat,\n",
    "    dt=test_record.datetime,\n",
    "    max_dist=dist,\n",
    "    dt_gap=dt,\n",
    "    date_col=\"datetime\",\n",
    "    pool=df,\n",
    "    filter_datetime=True,\n",
    ")"
   ]
  },
  {
   "cell_type": "markdown",
   "id": "d148f129-9d8c-4c46-8f01-3e9c1e93e81a",
   "metadata": {},
   "source": [
    "## Verify\n",
    "\n",
    "Check that records are the same"
   ]
  },
  {
   "cell_type": "code",
   "execution_count": 11,
   "id": "11f3d73a-fbe5-4f27-88d8-d0d687bd0eac",
   "metadata": {},
   "outputs": [
    {
     "name": "stdout",
     "output_type": "stream",
     "text": [
      "CPU times: user 2.38 s, sys: 108 ms, total: 2.49 s\n",
      "Wall time: 2.61 s\n"
     ]
    }
   ],
   "source": [
    "%%time\n",
    "dist = 250\n",
    "for _ in range(250):\n",
    "    rec = Record(*random.choice(df.rows()))\n",
    "    orig = nearby_ships(\n",
    "        lon=rec.lon,\n",
    "        lat=rec.lat,\n",
    "        dt=rec.datetime,\n",
    "        max_dist=dist,\n",
    "        dt_gap=dt,\n",
    "        date_col=\"datetime\",\n",
    "        pool=df,\n",
    "        filter_datetime=True,\n",
    "    )\n",
    "    tree = otree.nearby_points(rec, dist=dist, t_dist=dt)\n",
    "    if orig.height > 0:\n",
    "        if not tree:\n",
    "            print(rec)\n",
    "            print(\"NO TREE!\")\n",
    "            print(f\"{orig = }\")\n",
    "        else:\n",
    "            tree = pl.from_records(\n",
    "                [(r.lon, r.lat, r.datetime, r.uid) for r in tree], orient=\"row\"\n",
    "            ).rename(\n",
    "                {\n",
    "                    \"column_0\": \"lon\",\n",
    "                    \"column_1\": \"lat\",\n",
    "                    \"column_2\": \"datetime\",\n",
    "                    \"column_3\": \"uid\",\n",
    "                }\n",
    "            )\n",
    "            if tree.height != orig.height:\n",
    "                print(\"Tree and Orig Heights Do Not Match\")\n",
    "                print(rec)\n",
    "                print(f\"{orig = }\")\n",
    "                print(f\"{tree = }\")\n",
    "            else:\n",
    "                # tree = tree.with_columns(pl.col(\"uid\").str.slice(0, 6))\n",
    "                if not tree.sort(\"uid\").equals(orig.sort(\"uid\")):\n",
    "                    print(\"Tree and Orig Do Not Match\")\n",
    "                    print(rec)\n",
    "                    print(f\"{orig = }\")\n",
    "                    print(f\"{tree = }\")"
   ]
  },
  {
   "cell_type": "markdown",
   "id": "1223529e-bfae-4b83-aba7-505d05e588d3",
   "metadata": {},
   "source": [
    "## Check -180/180 boundary\n",
    "\n",
    "Expect to see `SpaceTimeRecord`s with both positive and negative `\"x\"` values"
   ]
  },
  {
   "cell_type": "code",
   "execution_count": 12,
   "id": "4c392292-2d9f-4301-afb5-019fde069a1e",
   "metadata": {},
   "outputs": [
    {
     "name": "stdout",
     "output_type": "stream",
     "text": [
      "SpaceTimeRecord(x = -179, y = -42, datetime = 1900-01-14 15:00:00, uid = e_2)\n",
      "SpaceTimeRecord(x = 179, y = -43, datetime = 1900-01-14 12:00:00, uid = e_1)\n"
     ]
    }
   ],
   "source": [
    "# Ensure some points are added\n",
    "cross_points = [\n",
    "    Record(179, -43, datetime(1900, 1, 14, 12), uid=\"e_1\"),\n",
    "    Record(-179, -42, datetime(1900, 1, 14, 15), uid=\"e_2\"),\n",
    "]\n",
    "\n",
    "for c in cross_points:\n",
    "    otree.insert(c)\n",
    "\n",
    "out = otree.nearby_points(\n",
    "    Record(179.5, -43.1, datetime(1900, 1, 14, 13)),\n",
    "    dist=200,\n",
    "    t_dist=timedelta(days=3),\n",
    ")\n",
    "for o in out:\n",
    "    print(o)\n",
    "assert all(c in out for c in cross_points)"
   ]
  }
 ],
 "metadata": {
  "kernelspec": {
   "display_name": "geospatialtools",
   "language": "python",
   "name": "geospatialtools"
  },
  "language_info": {
   "codemirror_mode": {
    "name": "ipython",
    "version": 3
   },
   "file_extension": ".py",
   "mimetype": "text/x-python",
   "name": "python",
   "nbconvert_exporter": "python",
   "pygments_lexer": "ipython3",
   "version": "3.12.10"
  }
 },
 "nbformat": 4,
 "nbformat_minor": 5
}
